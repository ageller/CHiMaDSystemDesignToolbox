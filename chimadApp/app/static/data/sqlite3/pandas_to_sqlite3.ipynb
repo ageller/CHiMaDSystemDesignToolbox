{
 "cells": [
  {
   "cell_type": "markdown",
   "id": "7b9e2f27",
   "metadata": {},
   "source": [
    "# Converting the csv files to a SQL database"
   ]
  },
  {
   "cell_type": "code",
   "execution_count": null,
   "id": "12c9f51b",
   "metadata": {},
   "outputs": [],
   "source": [
    "import pandas as pd\n",
    "import sqlite3\n",
    "import os\n",
    "import re"
   ]
  },
  {
   "cell_type": "code",
   "execution_count": null,
   "id": "202fc6ef",
   "metadata": {},
   "outputs": [],
   "source": [
    "%load_ext autoreload\n",
    "%autoreload 2\n",
    "\n",
    "# my code\n",
    "from SQLutils import addCSVToSQLdb, createNewSQLdbFromCSVs"
   ]
  },
  {
   "cell_type": "markdown",
   "id": "af30e82c",
   "metadata": {},
   "source": [
    "## Create new database files with the desired paragraph(s)"
   ]
  },
  {
   "cell_type": "code",
   "execution_count": null,
   "id": "9db70835",
   "metadata": {},
   "outputs": [],
   "source": [
    "allPara = pd.read_csv('../csv/paragraphs.csv')\n",
    "allParaName = allPara['paragraphname'].to_list()\n",
    "allParaName"
   ]
  },
  {
   "cell_type": "code",
   "execution_count": null,
   "id": "6097d19d",
   "metadata": {},
   "outputs": [],
   "source": [
    "#all that we currently have\n",
    "createNewSQLdbFromCSVs('Dec2021_all', allParaName)"
   ]
  },
  {
   "cell_type": "code",
   "execution_count": null,
   "id": "74df97f6",
   "metadata": {},
   "outputs": [],
   "source": [
    "#default, available on load\n",
    "default = ['Polymer Composite Example','Aluminum-CHiMaDExample','Thermoelectrics_test','Emery-Exam1-M54']\n",
    "createNewSQLdbFromCSVs('default', default)"
   ]
  },
  {
   "cell_type": "code",
   "execution_count": null,
   "id": "00c883d3",
   "metadata": {},
   "outputs": [],
   "source": [
    "createNewSQLdbFromCSVs('testing', default)"
   ]
  },
  {
   "cell_type": "code",
   "execution_count": null,
   "id": "7a571502",
   "metadata": {
    "scrolled": true
   },
   "outputs": [],
   "source": [
    "useCases = ['Polymer Composite Example','Aluminum-CHiMaDExample','Thermoelectrics_test','Emery-Exam1-M54',\n",
    "    'CJE BCPs for DSA',\n",
    "    'Co_alloy_WhitneyT',\n",
    "    'Cobalt-Based Superalloys_Brandonfinished',\n",
    "    'Metal AM - SLM',\n",
    "    'PECs',\n",
    "    'PECs_class',\n",
    "    'Superalloy -test',\n",
    "    'Thermoelectrics_JM',\n",
    "    'whitney DSA',\n",
    "    'CJE DSA Random BCPs'\n",
    "]\n",
    "createNewSQLdbFromCSVs('CHiMaD_UseCases', useCases)"
   ]
  },
  {
   "cell_type": "code",
   "execution_count": null,
   "id": "42ba2154",
   "metadata": {},
   "outputs": [],
   "source": []
  },
  {
   "cell_type": "markdown",
   "id": "6b407e38",
   "metadata": {},
   "source": [
    "# Create the metrics database"
   ]
  },
  {
   "cell_type": "code",
   "execution_count": null,
   "id": "6510caae",
   "metadata": {},
   "outputs": [],
   "source": [
    "dbName = 'CHiMaD_metrics.db'\n",
    "tableName = 'loginMetrics'\n",
    "columns = ['timestamp', 'name', 'organization', 'email', 'purpose', 'groupname']"
   ]
  },
  {
   "cell_type": "code",
   "execution_count": null,
   "id": "2aa3688b",
   "metadata": {},
   "outputs": [],
   "source": [
    "# connect to the SQL database (this will create a file if it does not already exist)\n",
    "conn = sqlite3.connect(dbName)\n",
    "cursor = conn.cursor()\n",
    "\n",
    "# include all columns, and assume that they are all text\n",
    "# allow only alphanumeric values in column names\n",
    "cols = ''\n",
    "for col in columns:\n",
    "    cc = re.sub(r'\\W+', '', col) \n",
    "    cols += cc + ' text, ' \n",
    "cols = cols[:-2]\n",
    "    \n",
    "# create the table\n",
    "cursor.execute('CREATE TABLE IF NOT EXISTS ' + tableName + ' (' + cols + ')')\n",
    "conn.commit()\n",
    "\n",
    "cursor.close()"
   ]
  },
  {
   "cell_type": "markdown",
   "id": "698ca667",
   "metadata": {},
   "source": [
    "# Remove a table from a file"
   ]
  },
  {
   "cell_type": "code",
   "execution_count": null,
   "id": "52fb1ef6",
   "metadata": {},
   "outputs": [],
   "source": [
    "dbName = 'default.db'\n",
    "conn = sqlite3.connect(dbName)\n",
    "cursor = conn.cursor()\n",
    "\n",
    "dropTableStatement = \"DROP TABLE dbs\"\n",
    "cursor.execute(dropTableStatement)\n",
    "cursor.close()"
   ]
  },
  {
   "cell_type": "markdown",
   "id": "abd6971d",
   "metadata": {},
   "source": [
    "# Remove a row from a database file"
   ]
  },
  {
   "cell_type": "code",
   "execution_count": null,
   "id": "aaf11f43",
   "metadata": {},
   "outputs": [],
   "source": [
    "#read in table \n",
    "dbName = 'default.db'\n",
    "tablename = 'polymercompositeexample'\n",
    "\n",
    "conn = sqlite3.connect(dbName)\n",
    "cursor = conn.cursor()\n",
    "cursor.execute(\"SELECT name FROM sqlite_master WHERE type='table';\")\n",
    "tables = [x[0] for x in cursor.fetchall()]\n",
    "print(tables)\n",
    "\n",
    "cursor.execute('SELECT * FROM ' + tablename)\n",
    "columns = [description[0] for description in cursor.description]\n",
    "df = pd.DataFrame(cursor.fetchall(), columns = columns)  \n",
    "display(df)\n",
    "\n",
    "# perform selection\n",
    "#df = df.loc[~((df['username'] == 'AaronGeller') & (df.index > 41))]\n",
    "# rewrite table\n",
    "#df.to_sql(tablename, conn, if_exists='replace', index = False)\n",
    "#display(df)\n",
    "\n",
    "cursor.close()"
   ]
  },
  {
   "cell_type": "code",
   "execution_count": null,
   "id": "42415618",
   "metadata": {},
   "outputs": [],
   "source": []
  },
  {
   "cell_type": "code",
   "execution_count": null,
   "id": "2c05b128",
   "metadata": {},
   "outputs": [],
   "source": []
  },
  {
   "cell_type": "code",
   "execution_count": null,
   "id": "4146e746",
   "metadata": {},
   "outputs": [],
   "source": []
  },
  {
   "cell_type": "markdown",
   "id": "1da99411",
   "metadata": {},
   "source": [
    "## Test selecting everything from the database and puting back into DataFrame"
   ]
  },
  {
   "cell_type": "code",
   "execution_count": null,
   "id": "7f76f899",
   "metadata": {},
   "outputs": [],
   "source": [
    "conn = sqlite3.connect(dbName)\n",
    "cursor = conn.cursor()\n",
    "\n",
    "cursor.execute(\"SELECT name FROM sqlite_master WHERE type='table';\")\n",
    "tables = [x[0] for x in cursor.fetchall()]\n",
    "\n",
    "for t in tables:\n",
    "    print(t)\n",
    "    cursor.execute('SELECT * FROM ' + t)\n",
    "    columns = [description[0] for description in cursor.description]\n",
    "    df2 = pd.DataFrame(cursor.fetchall(), columns = columns)    \n",
    "    display(df2)\n"
   ]
  },
  {
   "cell_type": "code",
   "execution_count": null,
   "id": "ed2dd224",
   "metadata": {},
   "outputs": [],
   "source": [
    "cursor.close()"
   ]
  },
  {
   "cell_type": "code",
   "execution_count": null,
   "id": "875a9790",
   "metadata": {},
   "outputs": [],
   "source": []
  },
  {
   "cell_type": "code",
   "execution_count": null,
   "id": "792411ae",
   "metadata": {},
   "outputs": [],
   "source": []
  },
  {
   "cell_type": "markdown",
   "id": "4a742de3",
   "metadata": {},
   "source": [
    "# Manual testing"
   ]
  },
  {
   "cell_type": "markdown",
   "id": "5a59c8ef",
   "metadata": {},
   "source": [
    "## Read in a csv file"
   ]
  },
  {
   "cell_type": "code",
   "execution_count": null,
   "id": "8415ccef",
   "metadata": {},
   "outputs": [],
   "source": [
    "#csvName = 'thermoelectricsjm.csv' # this has a column with \".1\" in the name, and sqlite does not allow it\n",
    "csvName = 'paragraphs.csv' # this has a column with \".1\" in the name, and sqlite does not allow it\n",
    "df = pd.read_csv('../csv/' + csvName)\n",
    "df"
   ]
  },
  {
   "cell_type": "markdown",
   "id": "995f70b1",
   "metadata": {},
   "source": [
    "## Create a SQL database"
   ]
  },
  {
   "cell_type": "code",
   "execution_count": null,
   "id": "b694545f",
   "metadata": {},
   "outputs": [],
   "source": [
    "dbName = 'CHiMaD_SDC.db'\n",
    "conn = sqlite3.connect(dbName)\n",
    "cursor = conn.cursor()"
   ]
  },
  {
   "cell_type": "code",
   "execution_count": null,
   "id": "2e5697eb",
   "metadata": {},
   "outputs": [],
   "source": [
    "# the database name will be the file name w/o csv\n",
    "# take only alphanumeric values\n",
    "tableName = re.sub(r'\\W+', '',csvName.replace('.csv','')) \n",
    "tableName"
   ]
  },
  {
   "cell_type": "code",
   "execution_count": null,
   "id": "bd46afb2",
   "metadata": {},
   "outputs": [],
   "source": [
    "# include all columns, and assume that they are all text\n",
    "cols = ''\n",
    "for col in df.columns:\n",
    "    cc = re.sub(r'\\W+', '', col) # only alphanumeric values in column names\n",
    "    cols += cc + ' text, '\n",
    "cols = cols[:-2]\n",
    "cols"
   ]
  },
  {
   "cell_type": "code",
   "execution_count": null,
   "id": "a80e5d75",
   "metadata": {},
   "outputs": [],
   "source": [
    "cursor.execute('CREATE TABLE IF NOT EXISTS ' + tableName + ' (' + cols + ')')\n",
    "conn.commit()"
   ]
  },
  {
   "cell_type": "code",
   "execution_count": null,
   "id": "fa119785",
   "metadata": {},
   "outputs": [],
   "source": [
    "# add the dataframe into the database\n",
    "df.to_sql(tableName, conn, if_exists='replace', index = False)"
   ]
  },
  {
   "cell_type": "code",
   "execution_count": null,
   "id": "450a6ab9",
   "metadata": {},
   "outputs": [],
   "source": []
  },
  {
   "cell_type": "code",
   "execution_count": null,
   "id": "e07d8459",
   "metadata": {},
   "outputs": [],
   "source": [
    "#grab one table and write to file\n",
    "t = 'paragraphs'\n",
    "cursor.execute('SELECT * FROM ' + t)\n",
    "columns = [description[0] for description in cursor.description]\n",
    "df2 = pd.DataFrame(cursor.fetchall(), columns = columns)   \n",
    "df2.to_csv(t+'.csv', index=False)"
   ]
  },
  {
   "cell_type": "code",
   "execution_count": null,
   "id": "e618feed",
   "metadata": {},
   "outputs": [],
   "source": []
  },
  {
   "cell_type": "code",
   "execution_count": null,
   "id": "201c46c8",
   "metadata": {
    "scrolled": true
   },
   "outputs": [],
   "source": [
    "#read in table to check\n",
    "# dbName = 'CHiMaD_metrics.db'\n",
    "# tablename = 'loginMetrics'\n",
    "#dbName = 'uchicago.db'\n",
    "#dbName = 'dec2021_all.db'\n",
    "#tablename = 'paragraphs'\n",
    "#tablename = 'polymercompositeexample'\n",
    "# dbName = 'available_dbs.db'\n",
    "# tablename = 'dbs'\n",
    "dbName = 'default.db'\n",
    "tablename = 'polymercompositeexample'\n",
    "#tablename = 'paragraphs'\n",
    "\n",
    "conn = sqlite3.connect(dbName)\n",
    "cursor = conn.cursor()\n",
    "cursor.execute(\"SELECT name FROM sqlite_master WHERE type='table';\")\n",
    "tables = [x[0] for x in cursor.fetchall()]\n",
    "print(tables)\n",
    "\n",
    "cursor.execute('SELECT * FROM ' + tablename)\n",
    "columns = [description[0] for description in cursor.description]\n",
    "df = pd.DataFrame(cursor.fetchall(), columns = columns)  \n",
    "display(df)\n",
    "\n",
    "cursor.close()"
   ]
  },
  {
   "cell_type": "code",
   "execution_count": null,
   "id": "b5f97ce1",
   "metadata": {},
   "outputs": [],
   "source": [
    "display(df)\n",
    "df.replace({'groupname': {'testing': 'foo'}}, inplace = True)\n",
    "display(df)"
   ]
  },
  {
   "cell_type": "code",
   "execution_count": null,
   "id": "bd70e981",
   "metadata": {},
   "outputs": [],
   "source": [
    "#rename table\n",
    "dbName = 'testing1.db'\n",
    "tablename = 'polymercompositeexample'\n",
    "newname = 'foo'\n",
    "conn = sqlite3.connect(dbName)\n",
    "cursor = conn.cursor()\n",
    "cursor.execute(\"ALTER TABLE `\" + newname + \"` RENAME TO `\" + tablename + \"`\")\n",
    "cursor.close()\n"
   ]
  },
  {
   "cell_type": "code",
   "execution_count": null,
   "id": "94bace66",
   "metadata": {},
   "outputs": [],
   "source": [
    "#rename value\n",
    "paragraphname = 'Polymer Composite Example'\n",
    "newname = 'foo'\n",
    "db = 'testing1.db'\n",
    "conn = sqlite3.connect(db)\n",
    "cursor = conn.cursor()\n",
    "cursor.execute('SELECT * FROM paragraphs')\n",
    "columns = [description[0] for description in cursor.description]\n",
    "df = pd.DataFrame(cursor.fetchall(), columns = columns) \n",
    "df.replace({'paragraphname': {paragraphname: newname}}, inplace = True)\n",
    "df.to_sql('paragraphs', conn, if_exists='replace', index = False)\n",
    "cursor.close()"
   ]
  },
  {
   "cell_type": "code",
   "execution_count": null,
   "id": "add036d6",
   "metadata": {},
   "outputs": [],
   "source": []
  },
  {
   "cell_type": "code",
   "execution_count": null,
   "id": "9dcd9d84",
   "metadata": {},
   "outputs": [],
   "source": [
    "cursor.close()"
   ]
  },
  {
   "cell_type": "code",
   "execution_count": null,
   "id": "9e181a92",
   "metadata": {},
   "outputs": [],
   "source": [
    "# command to copy files from Downloads and change names\n",
    "#find ~/Downloads/ | grep testParagraph | awk '{print (\"cp \"$0\" \"$3)}' | sed s/\" - \"/\"\\\\\\ -\\\\\\ \"/ > foo"
   ]
  },
  {
   "cell_type": "code",
   "execution_count": null,
   "id": "95e75fe6",
   "metadata": {},
   "outputs": [],
   "source": []
  },
  {
   "cell_type": "code",
   "execution_count": null,
   "id": "70700217",
   "metadata": {},
   "outputs": [],
   "source": []
  }
 ],
 "metadata": {
  "kernelspec": {
   "display_name": "Python 3",
   "language": "python",
   "name": "python3"
  },
  "language_info": {
   "codemirror_mode": {
    "name": "ipython",
    "version": 3
   },
   "file_extension": ".py",
   "mimetype": "text/x-python",
   "name": "python",
   "nbconvert_exporter": "python",
   "pygments_lexer": "ipython3",
   "version": "3.8.8"
  }
 },
 "nbformat": 4,
 "nbformat_minor": 5
}
